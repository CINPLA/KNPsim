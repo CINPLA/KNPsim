{
 "cells": [
  {
   "cell_type": "markdown",
   "metadata": {},
   "source": [
    "# Creating figure 6\n",
    "This notebook generates figure 6 in the paper, assuming that the  datafiles have been created (by the scripts in the 'simulations'-folder). The figures were put together in inkscape."
   ]
  },
  {
   "cell_type": "code",
   "execution_count": 1,
   "metadata": {},
   "outputs": [],
   "source": [
    "import sys\n",
    "\n",
    "import h5py\n",
    "from fenics import *\n",
    "from analysistools import *\n",
    "plt.rc('text', usetex=True)\n",
    "\n",
    "font = {'family' : 'normal',\n",
    "        'weight' : 'bold',\n",
    "        'size'   : 10}\n",
    "\n",
    "plt.rc('font', **font)\n",
    "\n",
    "%matplotlib notebook\n",
    "import logging\n",
    "ffc_logger = logging.getLogger('FFC')\n",
    "ffc_logger.setLevel(logging.WARNING)\n",
    "import scipy.io"
   ]
  },
  {
   "cell_type": "code",
   "execution_count": 4,
   "metadata": {},
   "outputs": [],
   "source": [
    "a = AnalysisTools('data/knp_column_neuron.h5')\n",
    "cell_morphology = scipy.io.loadmat('data/cell_morphology_with_points.mat')\n",
    "neuron_data = h5py.File('data/neuron_input_1.h5','r')"
   ]
  },
  {
   "cell_type": "code",
   "execution_count": 5,
   "metadata": {},
   "outputs": [],
   "source": [
    "xmin = a.mesh.coordinates()[:,0].min()\n",
    "xmax = a.mesh.coordinates()[:,0].max()\n",
    "xlen = xmax - xmin\n",
    "\n",
    "ymin = a.mesh.coordinates()[:,1].min()\n",
    "ymax = a.mesh.coordinates()[:,1].max()\n",
    "ylen = ymax - ymin\n",
    "\n",
    "zmin = a.mesh.coordinates()[:,2].min()\n",
    "zmax = a.mesh.coordinates()[:,2].max()\n",
    "zmid = (zmax + zmin)/2\n",
    "\n",
    "N = 100\n",
    "padding = 0.01\n"
   ]
  },
  {
   "cell_type": "code",
   "execution_count": 6,
   "metadata": {},
   "outputs": [],
   "source": [
    "x_array = np.linspace(xmin + padding*xlen, xmax - padding*xlen, N)\n",
    "y_array = np.linspace(ymin + padding*ylen, ymax - padding*ylen, N)\n",
    "X,Y = np.meshgrid (x_array,y_array)\n",
    "\n",
    "X=X*1e6\n",
    "Y = Y*1e6\n",
    "\n",
    "measurement_point = [20,20,20]"
   ]
  },
  {
   "cell_type": "code",
   "execution_count": 11,
   "metadata": {},
   "outputs": [],
   "source": [
    "def plot_func_with_neuron(t_idx, ion_idx, levels, c_init, title='', cmap='RdBu', clabel='', factor=1.):\n",
    "    Z = np.zeros([100, 100])\n",
    "\n",
    "    k = t_idx\n",
    "    u = Function(a.W)\n",
    "    c = Function(a.V)\n",
    "    a.hdf.read(u, '/solution/vector_'+str(k))\n",
    "    c.assign(project(u.sub(ion_idx), a.V))\n",
    "    for i,x in enumerate(x_array):\n",
    "        for j,y in enumerate(y_array):\n",
    "            p = Point(x,y,zmid)\n",
    "            Z[j,i] = c(p)\n",
    "    \n",
    "    Z = Z*factor\n",
    "    Z = Z-c_init\n",
    "    plt.figure(figsize=(2.4,2.4))\n",
    "    plt.contourf(X,Y,Z, cmap=cmap, levels=levels)\n",
    "    \n",
    "    cbar = plt.colorbar(ticks=[-0.8, -0.4, 0, 0.4, 0.8])\n",
    "        \n",
    "    xstart = (cell_morphology['xstart'][0])*1e6\n",
    "    xend = (cell_morphology['xend'][0])*1e6\n",
    "\n",
    "    ystart = (cell_morphology['ystart'][0])*1e6\n",
    "    yend = (cell_morphology['yend'][0])*1e6\n",
    "\n",
    "    NN = cell_morphology['N'][0][0]\n",
    "\n",
    "    [plt.plot([xstart[idx], xend[idx]], [ystart[idx], yend[idx]], c='k', linewidth=0.4, zorder=1) for idx in range(NN)]  \n",
    "    plt.axis(\"image\")\n",
    "    plt.title(title)\n",
    "    plt.scatter([measurement_point[0]], [measurement_point[1]], 25, c='lightgreen', edgecolor='k', zorder=2)\n",
    "\n",
    "    plt.scatter([-100], [1100], 25, c='magenta', edgecolor='k', zorder=2)\n",
    "    \n",
    "    cbar.set_label(clabel)\n",
    "#     plt.xlabel(r'$x$-position ($\\mu$m)')\n",
    "#     plt.ylabel(r'$y$-position ($\\mu$m)')\n",
    "    plt.xticks([])\n",
    "    plt.yticks([])\n",
    "    plt.plot([100, 200], [1100, 1100], 'k')\n",
    "    plt.text(105, 1000, r'100 \\textmu m')\n",
    "    return Z\n"
   ]
  },
  {
   "cell_type": "code",
   "execution_count": 12,
   "metadata": {},
   "outputs": [
    {
     "name": "stderr",
     "output_type": "stream",
     "text": [
      "/home/andreavs/anaconda3/envs/knpsim/lib/python3.6/site-packages/matplotlib/font_manager.py:1328: UserWarning: findfont: Font family ['normal'] not found. Falling back to DejaVu Sans\n",
      "  (prop.get_family(), self.defaultFamily[fontext]))\n",
      "/home/andreavs/anaconda3/envs/knpsim/lib/python3.6/site-packages/matplotlib/font_manager.py:1328: UserWarning: findfont: Font family ['normal'] not found. Falling back to DejaVu Sans\n",
      "  (prop.get_family(), self.defaultFamily[fontext]))\n",
      "/home/andreavs/anaconda3/envs/knpsim/lib/python3.6/site-packages/matplotlib/font_manager.py:1328: UserWarning: findfont: Font family ['normal'] not found. Falling back to DejaVu Sans\n",
      "  (prop.get_family(), self.defaultFamily[fontext]))\n"
     ]
    },
    {
     "data": {
      "image/png": "[encoded data removed]",
      "text/plain": [
       "<Figure size 172.8x172.8 with 2 Axes>"
      ]
     },
     "metadata": {},
     "output_type": "display_data"
    },
    {
     "data": {
      "image/png": "[encoded data removed]",
      "text/plain": [
       "<Figure size 172.8x172.8 with 2 Axes>"
      ]
     },
     "metadata": {},
     "output_type": "display_data"
    }
   ],
   "source": [
    "t_idx = 800\n",
    "\n",
    "title_phi_diff = r'$\\phi_{\\mathrm{diff}}$'\n",
    "c_init = 0\n",
    "vmin = -0.8\n",
    "vmax = 0.8\n",
    "levels = np.linspace(vmin,vmax, 20)\n",
    "Z_diff = plot_func_with_neuron(t_idx, 4, levels, c_init, title=title_phi_diff, cmap='RdBu_r', clabel=r'Potential (\\textmu V)', factor=1e6)\n",
    "plt.tight_layout()\n",
    "plt.savefig('phi_diff.pdf')\n",
    "\n",
    "title_phi_vc = r'$\\phi_{\\mathrm{VC}}$'\n",
    "c_init = 0\n",
    "vmin = -0.8\n",
    "vmax = 0.8\n",
    "levels = np.linspace(vmin,vmax, 20)\n",
    "Z_vc = plot_func_with_neuron(t_idx, 5, levels, c_init, title=title_phi_vc, cmap='RdBu_r', clabel=r'Potential (\\textmu V)', factor=1e6)\n",
    "plt.tight_layout()\n",
    "plt.savefig('phi_vc.pdf')\n",
    "\n",
    "plt.show()"
   ]
  },
  {
   "cell_type": "code",
   "execution_count": 14,
   "metadata": {},
   "outputs": [
    {
     "name": "stderr",
     "output_type": "stream",
     "text": [
      "/home/andreavs/anaconda3/envs/knpsim/lib/python3.6/site-packages/matplotlib/font_manager.py:1328: UserWarning: findfont: Font family ['normal'] not found. Falling back to DejaVu Sans\n",
      "  (prop.get_family(), self.defaultFamily[fontext]))\n",
      "/home/andreavs/anaconda3/envs/knpsim/lib/python3.6/site-packages/matplotlib/font_manager.py:1328: UserWarning: findfont: Font family ['normal'] not found. Falling back to DejaVu Sans\n",
      "  (prop.get_family(), self.defaultFamily[fontext]))\n"
     ]
    },
    {
     "data": {
      "image/png": "[encoded data removed]",
      "text/plain": [
       "<Figure size 172.8x172.8 with 2 Axes>"
      ]
     },
     "metadata": {},
     "output_type": "display_data"
    }
   ],
   "source": [
    "plt.figure(figsize=(2.4,2.4))\n",
    "vmin = -0.8\n",
    "vmax = 0.8\n",
    "levels = np.linspace(vmin,vmax, 20)\n",
    "plt.contourf(X,Y,Z_vc+Z_diff, cmap='RdBu_r', levels=levels)\n",
    "\n",
    "cbar = plt.colorbar(ticks=[-0.8, -0.4, 0, 0.4, 0.8])\n",
    "\n",
    "xstart = (cell_morphology['xstart'][0])*1e6\n",
    "xend = (cell_morphology['xend'][0])*1e6\n",
    "ystart = (cell_morphology['ystart'][0])*1e6\n",
    "yend = (cell_morphology['yend'][0])*1e6\n",
    "NN = cell_morphology['N'][0][0]\n",
    "\n",
    "[plt.plot([xstart[idx], xend[idx]], [ystart[idx], yend[idx]], c='k', linewidth=0.4, zorder=1) for idx in range(NN)] \n",
    "plt.axis(\"image\")\n",
    "plt.scatter([measurement_point[0]], [measurement_point[1]], 25, c='lightgreen', edgecolor='k', zorder=2)\n",
    "\n",
    "plt.scatter([-100], [1100], 25, c='magenta', edgecolor='k', zorder=2)\n",
    "plt.title(r'$\\phi$')\n",
    "cbar.set_label(r'Potential (\\textmu V)')\n",
    "\n",
    "plt.xticks([])\n",
    "plt.yticks([])\n",
    "plt.plot([100, 200], [1100, 1100], 'k')\n",
    "plt.text(105, 1000, r'100 \\textmu m')\n",
    "plt.tight_layout()\n",
    "plt.savefig('phi.pdf')\n",
    "plt.show()"
   ]
  }
 ],
 "metadata": {
  "kernelspec": {
   "display_name": "Python 3",
   "language": "python",
   "name": "python3"
  },
  "language_info": {
   "codemirror_mode": {
    "name": "ipython",
    "version": 3
   },
   "file_extension": ".py",
   "mimetype": "text/x-python",
   "name": "python",
   "nbconvert_exporter": "python",
   "pygments_lexer": "ipython3",
   "version": "3.6.4"
  }
 },
 "nbformat": 4,
 "nbformat_minor": 1
}
