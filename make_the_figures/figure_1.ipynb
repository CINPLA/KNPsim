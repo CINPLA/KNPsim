{
 "cells": [
  {
   "cell_type": "markdown",
   "metadata": {},
   "source": [
    "# Creating figure 1\n",
    "This notebook generates figure 1 in the paper, assuming that the  datafiles have been created (by the scripts in the 'simulations'-folder). The figures were put together in inkscape"
   ]
  },
  {
   "cell_type": "code",
   "execution_count": 1,
   "metadata": {},
   "outputs": [],
   "source": [
    "import sys\n",
    "\n",
    "import h5py\n",
    "from fenics import *\n",
    "from analysistools import *\n",
    "plt.rc('text', usetex=True)\n",
    "\n",
    "font = {'family' : 'normal',\n",
    "        'weight' : 'bold',\n",
    "        'size'   : 22}\n",
    "\n",
    "plt.rc('font', **font)\n",
    "\n",
    "%matplotlib notebook\n",
    "import logging\n",
    "ffc_logger = logging.getLogger('FFC')\n",
    "ffc_logger.setLevel(logging.WARNING)\n",
    "import scipy.io"
   ]
  },
  {
   "cell_type": "code",
   "execution_count": 2,
   "metadata": {},
   "outputs": [],
   "source": [
    "a = AnalysisTools('data/knp_column_neuron.h5')\n",
    "neuron_data = h5py.File('data/neuron_input_1.h5','r')\n",
    "cell_morphology = scipy.io.loadmat('data/cell_morphology_with_points.mat')"
   ]
  },
  {
   "cell_type": "code",
   "execution_count": 8,
   "metadata": {},
   "outputs": [
    {
     "name": "stdout",
     "output_type": "stream",
     "text": [
      "-458.36261526 486.377618464\n"
     ]
    }
   ],
   "source": [
    "xmin = a.mesh.coordinates()[:,0].min()\n",
    "xmax = a.mesh.coordinates()[:,0].max()\n",
    "xlen = xmax - xmin\n",
    "\n",
    "ymin = a.mesh.coordinates()[:,1].min()\n",
    "ymax = a.mesh.coordinates()[:,1].max()\n",
    "ylen = ymax - ymin\n",
    "\n",
    "zmin = a.mesh.coordinates()[:,2].min()\n",
    "zmax = a.mesh.coordinates()[:,2].max()\n",
    "zmid = (zmax + zmin)/2\n",
    "\n",
    "N = 100\n",
    "padding = 0.01\n",
    "\n",
    "print(xmin*1e6, xmax*1e6)"
   ]
  },
  {
   "cell_type": "code",
   "execution_count": 9,
   "metadata": {},
   "outputs": [],
   "source": [
    "x_array = np.linspace(xmin + padding*xlen, xmax - padding*xlen, N)\n",
    "y_array = np.linspace(ymin + padding*ylen, ymax - padding*ylen, N)\n",
    "X,Y = np.meshgrid (x_array,y_array)\n",
    "\n",
    "X=X*1e6\n",
    "Y = Y*1e6\n",
    "\n",
    "measurement_point = [20,20,20]"
   ]
  },
  {
   "cell_type": "code",
   "execution_count": 12,
   "metadata": {},
   "outputs": [],
   "source": [
    "xstart = (cell_morphology['xstart'][0])*1e6\n",
    "xend = (cell_morphology['xend'][0])*1e6\n",
    "\n",
    "ystart = (cell_morphology['ystart'][0])*1e6\n",
    "yend = (cell_morphology['yend'][0])*1e6\n",
    "\n",
    "NN = cell_morphology['N'][0][0]\n",
    "\n",
    "xmid = 1e6*np.array(neuron_data['x'])\n",
    "ymid = 1e6*np.array(neuron_data['y'])"
   ]
  },
  {
   "cell_type": "code",
   "execution_count": 13,
   "metadata": {},
   "outputs": [
    {
     "name": "stderr",
     "output_type": "stream",
     "text": [
      "/home/andreavs/anaconda3/envs/knpsim/lib/python3.6/site-packages/matplotlib/font_manager.py:1328: UserWarning: findfont: Font family ['normal'] not found. Falling back to DejaVu Sans\n",
      "  (prop.get_family(), self.defaultFamily[fontext]))\n",
      "/home/andreavs/anaconda3/envs/knpsim/lib/python3.6/site-packages/matplotlib/font_manager.py:1328: UserWarning: findfont: Font family ['normal'] not found. Falling back to DejaVu Sans\n",
      "  (prop.get_family(), self.defaultFamily[fontext]))\n"
     ]
    },
    {
     "data": {
      "image/png": "[encoded data removed]",
      "text/plain": [
       "<Figure size 432x288 with 1 Axes>"
      ]
     },
     "metadata": {},
     "output_type": "display_data"
    }
   ],
   "source": [
    "plt.figure()\n",
    "[plt.plot([xstart[idx], xend[idx]], [ystart[idx], yend[idx]], c='k', linewidth=0.4, zorder=1) for idx in range(NN)]    \n",
    "plt.axis(\"image\")\n",
    "plt.xlim([xmin*1e6, xmax*1e6])\n",
    "plt.ylim([ymin*1e6, ymax*1e6])\n",
    "\n",
    "plt.scatter(xmid, ymid, 20)\n",
    "plt.xlabel(r'$x$-position ($\\mu$m)')\n",
    "plt.ylabel(r'$y$-position ($\\mu$m)')\n",
    "plt.tight_layout()\n",
    "plt.savefig('morphology.pdf')\n",
    "plt.show()"
   ]
  }
 ],
 "metadata": {
  "kernelspec": {
   "display_name": "Python 3",
   "language": "python",
   "name": "python3"
  },
  "language_info": {
   "codemirror_mode": {
    "name": "ipython",
    "version": 3
   },
   "file_extension": ".py",
   "mimetype": "text/x-python",
   "name": "python",
   "nbconvert_exporter": "python",
   "pygments_lexer": "ipython3",
   "version": "3.6.4"
  }
 },
 "nbformat": 4,
 "nbformat_minor": 1
}
