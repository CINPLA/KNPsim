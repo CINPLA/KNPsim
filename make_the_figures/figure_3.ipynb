{
 "cells": [
  {
   "cell_type": "markdown",
   "metadata": {},
   "source": [
    "# Creating figure 3\n",
    "This notebook generates figure 3 in the paper, assuming that the  datafiles have been created (by the scripts in the 'simulations'-folder). The figures were put together in inkscape"
   ]
  },
  {
   "cell_type": "code",
   "execution_count": 1,
   "metadata": {},
   "outputs": [],
   "source": [
    "import sys\n",
    "\n",
    "import h5py\n",
    "from fenics import *\n",
    "from analysistools import *\n",
    "plt.rc('text', usetex=True)\n",
    "\n",
    "font = {'family' : 'normal',\n",
    "        'weight' : 'bold',\n",
    "        'size'   : 10}\n",
    "\n",
    "plt.rc('font', **font)\n",
    "\n",
    "%matplotlib notebook\n",
    "import logging\n",
    "ffc_logger = logging.getLogger('FFC')\n",
    "ffc_logger.setLevel(logging.WARNING)"
   ]
  },
  {
   "cell_type": "code",
   "execution_count": 2,
   "metadata": {},
   "outputs": [],
   "source": [
    "a = AnalysisTools('data/knp_point_source.h5')"
   ]
  },
  {
   "cell_type": "code",
   "execution_count": 3,
   "metadata": {},
   "outputs": [],
   "source": [
    "xmin = a.mesh.coordinates()[:,0].min()\n",
    "xmax = a.mesh.coordinates()[:,0].max()\n",
    "xlen = xmax - xmin\n",
    "\n",
    "ymin = a.mesh.coordinates()[:,1].min()\n",
    "ymax = a.mesh.coordinates()[:,1].max()\n",
    "ylen = ymax - ymin\n",
    "\n",
    "zmin = a.mesh.coordinates()[:,2].min()\n",
    "zmax = a.mesh.coordinates()[:,2].max()\n",
    "zmid = (zmax + zmin)/2\n",
    "\n",
    "N = 100\n",
    "padding = 0.01"
   ]
  },
  {
   "cell_type": "code",
   "execution_count": 5,
   "metadata": {},
   "outputs": [
    {
     "name": "stdout",
     "output_type": "stream",
     "text": [
      "1.0\n"
     ]
    }
   ],
   "source": [
    "x_array = np.linspace(xmin + padding*xlen, xmax - padding*xlen, N)\n",
    "y_array = np.linspace(ymin + padding*ylen, ymax - padding*ylen, N)\n",
    "X,Y = np.meshgrid (x_array,y_array)\n",
    "\n",
    "X=X*1e6\n",
    "Y = Y*1e6\n",
    "t_idx = 500\n",
    "print(a.time_series[t_idx])\n",
    "zm = zmid"
   ]
  },
  {
   "cell_type": "code",
   "execution_count": 6,
   "metadata": {},
   "outputs": [],
   "source": [
    "Z_diff = np.zeros([N,N])\n",
    "\n",
    "ion_idx = 4\n",
    "\n",
    "k = t_idx\n",
    "u = Function(a.W)\n",
    "c = Function(a.V)\n",
    "a.hdf.read(u, '/solution/vector_'+str(k))\n",
    "c.assign(project(u.sub(ion_idx), a.V))\n",
    "for i,x in enumerate(x_array):\n",
    "    for j,y in enumerate(y_array):\n",
    "        p = Point(x,y,zm)\n",
    "        Z_diff[j,i] = c(p)"
   ]
  },
  {
   "cell_type": "code",
   "execution_count": 7,
   "metadata": {},
   "outputs": [
    {
     "name": "stderr",
     "output_type": "stream",
     "text": [
      "/home/andreavs/anaconda3/envs/knpsim/lib/python3.6/site-packages/matplotlib/font_manager.py:1328: UserWarning: findfont: Font family ['normal'] not found. Falling back to DejaVu Sans\n",
      "  (prop.get_family(), self.defaultFamily[fontext]))\n",
      "/home/andreavs/anaconda3/envs/knpsim/lib/python3.6/site-packages/matplotlib/font_manager.py:1328: UserWarning: findfont: Font family ['normal'] not found. Falling back to DejaVu Sans\n",
      "  (prop.get_family(), self.defaultFamily[fontext]))\n",
      "/home/andreavs/anaconda3/envs/knpsim/lib/python3.6/site-packages/matplotlib/font_manager.py:1328: UserWarning: findfont: Font family ['normal'] not found. Falling back to DejaVu Sans\n",
      "  (prop.get_family(), self.defaultFamily[fontext]))\n",
      "/home/andreavs/anaconda3/envs/knpsim/lib/python3.6/site-packages/matplotlib/font_manager.py:1328: UserWarning: findfont: Font family ['normal'] not found. Falling back to DejaVu Sans\n",
      "  (prop.get_family(), self.defaultFamily[fontext]))\n",
      "/home/andreavs/anaconda3/envs/knpsim/lib/python3.6/site-packages/matplotlib/font_manager.py:1328: UserWarning: findfont: Font family ['normal'] not found. Falling back to DejaVu Sans\n",
      "  (prop.get_family(), self.defaultFamily[fontext]))\n",
      "/home/andreavs/anaconda3/envs/knpsim/lib/python3.6/site-packages/matplotlib/font_manager.py:1328: UserWarning: findfont: Font family ['normal'] not found. Falling back to DejaVu Sans\n",
      "  (prop.get_family(), self.defaultFamily[fontext]))\n",
      "/home/andreavs/anaconda3/envs/knpsim/lib/python3.6/site-packages/matplotlib/font_manager.py:1328: UserWarning: findfont: Font family ['normal'] not found. Falling back to DejaVu Sans\n",
      "  (prop.get_family(), self.defaultFamily[fontext]))\n",
      "/home/andreavs/anaconda3/envs/knpsim/lib/python3.6/site-packages/matplotlib/font_manager.py:1328: UserWarning: findfont: Font family ['normal'] not found. Falling back to DejaVu Sans\n",
      "  (prop.get_family(), self.defaultFamily[fontext]))\n",
      "/home/andreavs/anaconda3/envs/knpsim/lib/python3.6/site-packages/matplotlib/font_manager.py:1328: UserWarning: findfont: Font family ['normal'] not found. Falling back to DejaVu Sans\n",
      "  (prop.get_family(), self.defaultFamily[fontext]))\n",
      "/home/andreavs/anaconda3/envs/knpsim/lib/python3.6/site-packages/matplotlib/font_manager.py:1328: UserWarning: findfont: Font family ['normal'] not found. Falling back to DejaVu Sans\n",
      "  (prop.get_family(), self.defaultFamily[fontext]))\n"
     ]
    },
    {
     "data": {
      "image/png": "[encoded data removed]",
      "text/plain": [
       "<Figure size 180x180 with 2 Axes>"
      ]
     },
     "metadata": {},
     "output_type": "display_data"
    }
   ],
   "source": [
    "plt.figure(figsize=(2.5,2.5))\n",
    "# print(X.shape, Y.shape, Z[:,:].shape)\n",
    "levels = np.linspace(-1.2, 1.2, 20)\n",
    "plt.contourf(X,Y,1e6*(Z_diff),levels=levels, cmap='RdBu_r')\n",
    "plt.axis('image')\n",
    "cbar = plt.colorbar(ticks=[-1.2, -0.6, 0, 0.6, 1.2])\n",
    "cbar.set_label(r'Potential (\\textmu V)')\n",
    "# plt.xlabel(r'$x$-position ($\\mu$m)')\n",
    "# plt.ylabel(r'$y$-position ($\\mu$m)')\n",
    "plt.title(r'$\\phi_{\\mathrm{diff}}$')\n",
    "plt.xticks([])\n",
    "plt.yticks([])\n",
    "plt.axis('image')\n",
    "plt.plot([50,100], [50,50], 'k')\n",
    "plt.text(50,15, r'50 \\textmu m')\n",
    "plt.tight_layout()\n",
    "plt.savefig('phi_diff.pdf')\n",
    "plt.show()"
   ]
  },
  {
   "cell_type": "code",
   "execution_count": 8,
   "metadata": {},
   "outputs": [],
   "source": [
    "Z_vc = np.zeros([N,N])\n",
    "\n",
    "ion_idx = 5\n",
    "\n",
    "k = t_idx\n",
    "u = Function(a.W)\n",
    "c = Function(a.V)\n",
    "a.hdf.read(u, '/solution/vector_'+str(k))\n",
    "c.assign(project(u.sub(ion_idx), a.V))\n",
    "for i,x in enumerate(x_array):\n",
    "    for j,y in enumerate(y_array):\n",
    "        p = Point(x,y,zm)\n",
    "        Z_vc[j,i] = c(p)\n",
    "        "
   ]
  },
  {
   "cell_type": "code",
   "execution_count": 11,
   "metadata": {},
   "outputs": [
    {
     "name": "stderr",
     "output_type": "stream",
     "text": [
      "/home/andreavs/anaconda3/envs/knpsim/lib/python3.6/site-packages/matplotlib/font_manager.py:1328: UserWarning: findfont: Font family ['normal'] not found. Falling back to DejaVu Sans\n",
      "  (prop.get_family(), self.defaultFamily[fontext]))\n",
      "/home/andreavs/anaconda3/envs/knpsim/lib/python3.6/site-packages/matplotlib/font_manager.py:1328: UserWarning: findfont: Font family ['normal'] not found. Falling back to DejaVu Sans\n",
      "  (prop.get_family(), self.defaultFamily[fontext]))\n"
     ]
    },
    {
     "data": {
      "image/png": "[encoded data removed]",
      "text/plain": [
       "<Figure size 180x180 with 2 Axes>"
      ]
     },
     "metadata": {},
     "output_type": "display_data"
    }
   ],
   "source": [
    "plt.figure(figsize=(2.5,2.5) )\n",
    "# print(X.shape, Y.shape, Z[:,:].shape)\n",
    "levels = np.linspace(-23, 23, 20)\n",
    "plt.contourf(X,Y,1e6*(Z_vc),levels=levels, cmap='RdBu_r')\n",
    "# plt.axis('image')\n",
    "cbar = plt.colorbar(ticks=[-22, -11, 0, 11, 22])\n",
    "cbar.set_label(r'Potential (\\textmu V)')\n",
    "# plt.xlabel(r'$x$-position ($\\mu$m)')\n",
    "# plt.ylabel(r'$y$-position ($\\mu$m)')\n",
    "plt.xticks([])\n",
    "plt.yticks([])\n",
    "plt.axis('image')\n",
    "plt.plot([50,100], [50,50], 'k')\n",
    "plt.text(50,15, r'50 \\textmu m')\n",
    "plt.title(r'$\\phi_{\\mathrm{VC}}$')\n",
    "plt.tight_layout()\n",
    "plt.savefig('phi_vc.pdf')\n",
    "plt.show()"
   ]
  },
  {
   "cell_type": "code",
   "execution_count": 12,
   "metadata": {},
   "outputs": [
    {
     "name": "stderr",
     "output_type": "stream",
     "text": [
      "/home/andreavs/anaconda3/envs/knpsim/lib/python3.6/site-packages/matplotlib/font_manager.py:1328: UserWarning: findfont: Font family ['normal'] not found. Falling back to DejaVu Sans\n",
      "  (prop.get_family(), self.defaultFamily[fontext]))\n",
      "/home/andreavs/anaconda3/envs/knpsim/lib/python3.6/site-packages/matplotlib/font_manager.py:1328: UserWarning: findfont: Font family ['normal'] not found. Falling back to DejaVu Sans\n",
      "  (prop.get_family(), self.defaultFamily[fontext]))\n",
      "/home/andreavs/anaconda3/envs/knpsim/lib/python3.6/site-packages/matplotlib/font_manager.py:1328: UserWarning: findfont: Font family ['normal'] not found. Falling back to DejaVu Sans\n",
      "  (prop.get_family(), self.defaultFamily[fontext]))\n",
      "/home/andreavs/anaconda3/envs/knpsim/lib/python3.6/site-packages/matplotlib/font_manager.py:1328: UserWarning: findfont: Font family ['normal'] not found. Falling back to DejaVu Sans\n",
      "  (prop.get_family(), self.defaultFamily[fontext]))\n"
     ]
    },
    {
     "data": {
      "image/png": "[encoded data removed]",
      "text/plain": [
       "<Figure size 180x180 with 2 Axes>"
      ]
     },
     "metadata": {},
     "output_type": "display_data"
    }
   ],
   "source": [
    "Z = Z_vc+Z_diff\n",
    "\n",
    "plt.figure(figsize=(2.5,2.5))\n",
    "levels = np.linspace(-23, 23, 20)\n",
    "plt.contourf(X,Y,1e6*(Z_vc+Z_diff),levels=levels, cmap='RdBu_r')\n",
    "cbar = plt.colorbar(ticks=[-22, -11, 0, 11, 22])\n",
    "cbar.set_label(r'Potential (\\textmu V)')\n",
    "plt.xticks([])\n",
    "plt.yticks([])\n",
    "plt.axis('image')\n",
    "plt.plot([50,100], [50,50], 'k')\n",
    "plt.text(50,15, r'50 \\textmu m')\n",
    "plt.title(r'$\\phi$')\n",
    "plt.tight_layout()\n",
    "plt.savefig('phi.pdf')\n",
    "plt.show()"
   ]
  },
  {
   "cell_type": "code",
   "execution_count": 13,
   "metadata": {},
   "outputs": [],
   "source": [
    "# p1 = Point(50e-6, 100e-6, 10e-6)\n",
    "# p2 = Point(150e-6, 100e-6, 10e-6)\n",
    "\n",
    "p1 = Point(120e-6, 205e-6, 10e-6)\n",
    "p2 = Point(280e-6, 205e-6, 10e-6)"
   ]
  },
  {
   "cell_type": "code",
   "execution_count": 14,
   "metadata": {},
   "outputs": [
    {
     "name": "stdout",
     "output_type": "stream",
     "text": [
      "0\n",
      "10\n",
      "20\n",
      "30\n",
      "40\n",
      "50\n",
      "60\n",
      "70\n",
      "80\n",
      "90\n",
      "100\n",
      "110\n",
      "120\n",
      "130\n",
      "140\n",
      "150\n",
      "160\n",
      "170\n",
      "180\n",
      "190\n",
      "200\n",
      "210\n",
      "220\n",
      "230\n",
      "240\n",
      "250\n",
      "260\n",
      "270\n",
      "280\n",
      "290\n",
      "300\n",
      "310\n",
      "320\n",
      "330\n",
      "340\n",
      "350\n",
      "360\n",
      "370\n",
      "380\n",
      "390\n",
      "400\n",
      "410\n",
      "420\n",
      "430\n",
      "440\n",
      "450\n",
      "460\n",
      "470\n",
      "480\n",
      "490\n",
      "500\n",
      "510\n",
      "520\n",
      "530\n",
      "540\n",
      "550\n",
      "560\n",
      "570\n",
      "580\n",
      "590\n",
      "600\n",
      "610\n",
      "620\n",
      "630\n",
      "640\n",
      "650\n",
      "660\n",
      "670\n",
      "680\n",
      "690\n",
      "700\n",
      "710\n",
      "720\n",
      "730\n",
      "740\n",
      "750\n",
      "760\n",
      "770\n",
      "780\n",
      "790\n",
      "800\n",
      "810\n",
      "820\n",
      "830\n",
      "840\n",
      "850\n",
      "860\n",
      "870\n",
      "880\n",
      "890\n",
      "900\n",
      "910\n",
      "920\n",
      "930\n",
      "940\n",
      "950\n",
      "960\n",
      "970\n",
      "980\n",
      "990\n",
      "1000\n"
     ]
    }
   ],
   "source": [
    "phi_knp_membcurr_list = []\n",
    "phi_knp_diff_list = []\n",
    "u_knp = Function(a.W)\n",
    "phi_knp = Function(a.V)\n",
    "nStep = 1\n",
    "for i in range(0,len(a.time_series),nStep): \n",
    "    if(i%10 == 0):\n",
    "        print(i)\n",
    "    a.hdf.read(u_knp, '/solution/vector_'+str(i))\n",
    "    phi_knp.assign(project(u_knp.sub(a.N+1), a.V))\n",
    "    phi_knp_membcurr_list.append(phi_knp(p1) - phi_knp(p2))\n",
    "    phi_knp.assign(project(u_knp.sub(a.N), a.V))\n",
    "    phi_knp_diff_list.append(phi_knp(p1) - phi_knp(p2))"
   ]
  },
  {
   "cell_type": "code",
   "execution_count": 15,
   "metadata": {},
   "outputs": [
    {
     "name": "stderr",
     "output_type": "stream",
     "text": [
      "/home/andreavs/anaconda3/envs/knpsim/lib/python3.6/site-packages/matplotlib/font_manager.py:1328: UserWarning: findfont: Font family ['normal'] not found. Falling back to DejaVu Sans\n",
      "  (prop.get_family(), self.defaultFamily[fontext]))\n",
      "/home/andreavs/anaconda3/envs/knpsim/lib/python3.6/site-packages/matplotlib/font_manager.py:1328: UserWarning: findfont: Font family ['normal'] not found. Falling back to DejaVu Sans\n",
      "  (prop.get_family(), self.defaultFamily[fontext]))\n",
      "/home/andreavs/anaconda3/envs/knpsim/lib/python3.6/site-packages/matplotlib/font_manager.py:1328: UserWarning: findfont: Font family ['normal'] not found. Falling back to DejaVu Sans\n",
      "  (prop.get_family(), self.defaultFamily[fontext]))\n",
      "/home/andreavs/anaconda3/envs/knpsim/lib/python3.6/site-packages/matplotlib/font_manager.py:1328: UserWarning: findfont: Font family ['normal'] not found. Falling back to DejaVu Sans\n",
      "  (prop.get_family(), self.defaultFamily[fontext]))\n",
      "/home/andreavs/anaconda3/envs/knpsim/lib/python3.6/site-packages/matplotlib/font_manager.py:1328: UserWarning: findfont: Font family ['normal'] not found. Falling back to DejaVu Sans\n",
      "  (prop.get_family(), self.defaultFamily[fontext]))\n",
      "/home/andreavs/anaconda3/envs/knpsim/lib/python3.6/site-packages/matplotlib/font_manager.py:1328: UserWarning: findfont: Font family ['normal'] not found. Falling back to DejaVu Sans\n",
      "  (prop.get_family(), self.defaultFamily[fontext]))\n",
      "/home/andreavs/anaconda3/envs/knpsim/lib/python3.6/site-packages/matplotlib/font_manager.py:1328: UserWarning: findfont: Font family ['normal'] not found. Falling back to DejaVu Sans\n",
      "  (prop.get_family(), self.defaultFamily[fontext]))\n",
      "/home/andreavs/anaconda3/envs/knpsim/lib/python3.6/site-packages/matplotlib/font_manager.py:1328: UserWarning: findfont: Font family ['normal'] not found. Falling back to DejaVu Sans\n",
      "  (prop.get_family(), self.defaultFamily[fontext]))\n",
      "/home/andreavs/anaconda3/envs/knpsim/lib/python3.6/site-packages/matplotlib/font_manager.py:1328: UserWarning: findfont: Font family ['normal'] not found. Falling back to DejaVu Sans\n",
      "  (prop.get_family(), self.defaultFamily[fontext]))\n",
      "/home/andreavs/anaconda3/envs/knpsim/lib/python3.6/site-packages/matplotlib/font_manager.py:1328: UserWarning: findfont: Font family ['normal'] not found. Falling back to DejaVu Sans\n",
      "  (prop.get_family(), self.defaultFamily[fontext]))\n",
      "/home/andreavs/anaconda3/envs/knpsim/lib/python3.6/site-packages/matplotlib/font_manager.py:1328: UserWarning: findfont: Font family ['normal'] not found. Falling back to DejaVu Sans\n",
      "  (prop.get_family(), self.defaultFamily[fontext]))\n",
      "/home/andreavs/anaconda3/envs/knpsim/lib/python3.6/site-packages/matplotlib/font_manager.py:1328: UserWarning: findfont: Font family ['normal'] not found. Falling back to DejaVu Sans\n",
      "  (prop.get_family(), self.defaultFamily[fontext]))\n",
      "/home/andreavs/anaconda3/envs/knpsim/lib/python3.6/site-packages/matplotlib/font_manager.py:1328: UserWarning: findfont: Font family ['normal'] not found. Falling back to DejaVu Sans\n",
      "  (prop.get_family(), self.defaultFamily[fontext]))\n",
      "/home/andreavs/anaconda3/envs/knpsim/lib/python3.6/site-packages/matplotlib/font_manager.py:1328: UserWarning: findfont: Font family ['normal'] not found. Falling back to DejaVu Sans\n",
      "  (prop.get_family(), self.defaultFamily[fontext]))\n",
      "/home/andreavs/anaconda3/envs/knpsim/lib/python3.6/site-packages/matplotlib/font_manager.py:1328: UserWarning: findfont: Font family ['normal'] not found. Falling back to DejaVu Sans\n",
      "  (prop.get_family(), self.defaultFamily[fontext]))\n"
     ]
    },
    {
     "data": {
      "image/png": "[encoded data removed]",
      "text/plain": [
       "<Figure size 165.6x165.6 with 1 Axes>"
      ]
     },
     "metadata": {},
     "output_type": "display_data"
    }
   ],
   "source": [
    "phi_diff = 1e6*(np.array(phi_knp_diff_list))\n",
    "phi_vc = 1e6*np.array(phi_knp_membcurr_list)\n",
    "\n",
    "phi = phi_diff + phi_vc\n",
    "fig, ax = plt.subplots(figsize=(2.3,2.3))\n",
    "ax.yaxis.tick_right()\n",
    "plt.plot(a.time_series[1:],phi[1:], label=r'$\\phi$')\n",
    "plt.plot(a.time_series[1:],phi_vc[1:], '--', label=r'$\\phi_\\mathrm{VC}$')\n",
    "plt.xlabel(r\"time (s)\")\n",
    "ax.set_ylabel(r\"$\\Delta \\phi$ (\\textmu V)\")\n",
    "ax.yaxis.set_label_position(\"right\")\n",
    "plt.legend()\n",
    "plt.grid()\n",
    "plt.tight_layout()\n",
    "plt.savefig('phi_time.pdf')\n",
    "plt.show()"
   ]
  }
 ],
 "metadata": {
  "kernelspec": {
   "display_name": "Python 3",
   "language": "python",
   "name": "python3"
  },
  "language_info": {
   "codemirror_mode": {
    "name": "ipython",
    "version": 3
   },
   "file_extension": ".py",
   "mimetype": "text/x-python",
   "name": "python",
   "nbconvert_exporter": "python",
   "pygments_lexer": "ipython3",
   "version": "3.6.4"
  }
 },
 "nbformat": 4,
 "nbformat_minor": 1
}
