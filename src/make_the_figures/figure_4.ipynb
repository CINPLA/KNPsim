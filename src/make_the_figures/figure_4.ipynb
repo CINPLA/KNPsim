{
 "cells": [
  {
   "cell_type": "markdown",
   "metadata": {},
   "source": [
    "# Creating figure 4\n",
    "This notebook generates figure 4 in the paper, assuming that the  datafiles have been created (by the scripts in the 'simulations'-folder). The figures were put together in inkscape."
   ]
  },
  {
   "cell_type": "code",
   "execution_count": 1,
   "metadata": {
    "collapsed": true
   },
   "outputs": [],
   "source": [
    "import sys\n",
    "\n",
    "import h5py\n",
    "from fenics import *\n",
    "from analysistools import *\n",
    "plt.rc('text', usetex=True)\n",
    "\n",
    "font = {'family' : 'normal',\n",
    "        'weight' : 'bold',\n",
    "        'size'   : 10}\n",
    "\n",
    "plt.rc('font', **font)\n",
    "\n",
    "%matplotlib notebook\n",
    "import logging\n",
    "ffc_logger = logging.getLogger('FFC')\n",
    "ffc_logger.setLevel(logging.WARNING)\n",
    "import scipy.io"
   ]
  },
  {
   "cell_type": "code",
   "execution_count": 2,
   "metadata": {
    "collapsed": false
   },
   "outputs": [],
   "source": [
    "a = AnalysisTools('fig_3-7_data/knp_long.h5')\n",
    "cell_morphology = scipy.io.loadmat('fig_3-7_data/cell_morphology.mat')\n",
    "neuron_data = h5py.File('fig_3-7_data/neuron_data.hdf5','r')"
   ]
  },
  {
   "cell_type": "code",
   "execution_count": 3,
   "metadata": {
    "collapsed": true
   },
   "outputs": [],
   "source": [
    "xmin = a.mesh.coordinates()[:,0].min()\n",
    "xmax = a.mesh.coordinates()[:,0].max()\n",
    "xlen = xmax - xmin\n",
    "\n",
    "ymin = a.mesh.coordinates()[:,1].min()\n",
    "ymax = a.mesh.coordinates()[:,1].max()\n",
    "ylen = ymax - ymin\n",
    "\n",
    "zmin = a.mesh.coordinates()[:,2].min()\n",
    "zmax = a.mesh.coordinates()[:,2].max()\n",
    "zmid = (zmax + zmin)/2\n",
    "\n",
    "N = 100\n",
    "padding = 0.01\n"
   ]
  },
  {
   "cell_type": "code",
   "execution_count": null,
   "metadata": {
    "collapsed": true
   },
   "outputs": [],
   "source": [
    "x_array = np.linspace(xmin + padding*xlen, xmax - padding*xlen, N)\n",
    "y_array = np.linspace(ymin + padding*ylen, ymax - padding*ylen, N)\n",
    "X,Y = np.meshgrid (x_array,y_array)\n",
    "\n",
    "X=X*1e6\n",
    "Y = Y*1e6\n",
    "\n",
    "measurement_point = [20,20,20]"
   ]
  },
  {
   "cell_type": "code",
   "execution_count": null,
   "metadata": {
    "collapsed": true
   },
   "outputs": [],
   "source": [
    "def plot_func_with_neuron(t_idx, ion_idx, levels, c_init, cticks, title='', cmap='RdBu', clabel='', factor=1.):\n",
    "    Z = np.zeros([100, 100])\n",
    "\n",
    "    k = t_idx\n",
    "    u = Function(a.W)\n",
    "    c = Function(a.V)\n",
    "    a.hdf.read(u, '/solution/vector_'+str(k))\n",
    "    c.assign(project(u.sub(ion_idx), a.V))\n",
    "    for i,x in enumerate(x_array):\n",
    "        for j,y in enumerate(y_array):\n",
    "            p = Point(x,y,zmid)\n",
    "            Z[j,i] = c(p)\n",
    "    \n",
    "    \n",
    "    Z = Z*factor\n",
    "    Z = Z-c_init\n",
    "    plt.figure(figsize=(2.4,2.4))\n",
    "    # print(X.shape, Y.shape, Z[:,:].shape)\n",
    "#     levels = np.linspace(vmin-c_init, vmax-c_init, 9)\n",
    "    plt.contourf(X,Y,1000*Z, cmap=cmap, levels=levels)\n",
    "#     plt.contourf(X,Y,1000*Z, cmap=cmap)\n",
    "    \n",
    "#     if vmax > vmin:\n",
    "#         plt.pcolormesh(X,Y,Z, cmap=cmap, vmin=vmin, vmax=vmax)\n",
    "#     else:\n",
    "#         plt.pcolormesh(X,Y,Z, cmap=cmap)\n",
    "    # plt.axis('image')\n",
    "#     if ion_idx==2:\n",
    "#         cbar = plt.colorbar(ticks=[-0.01, -0.005, 0, 0.005, 0.01])\n",
    "#     elif ion_idx==1:\n",
    "#         cbar = plt.colorbar(ticks=[-0.03, -0.02, -0.01])\n",
    "#     else:\n",
    "    cbar = plt.colorbar(ticks=cticks)\n",
    "#     cbar = plt.colorbar()\n",
    "        \n",
    "    \n",
    "    xstart = (cell_morphology['xstart'][0])\n",
    "    xend = (cell_morphology['xend'][0])\n",
    "\n",
    "    ystart = (cell_morphology['ystart'][0])\n",
    "    yend = (cell_morphology['yend'][0])\n",
    "\n",
    "    NN = cell_morphology['N'][0][0]\n",
    "\n",
    "    [plt.plot([xstart[idx], xend[idx]], [ystart[idx], yend[idx]], c='k', linewidth=0.4, zorder=1) for idx in range(NN)]   \n",
    "    \n",
    "    plt.axis(\"image\")\n",
    "    plt.title(title)\n",
    "    plt.scatter([measurement_point[0]], [measurement_point[1]], 25, c='lightgreen', edgecolor='k', zorder=2)\n",
    "\n",
    "    plt.scatter([-100], [1100], 25, c='magenta', edgecolor='k', zorder=2)\n",
    "    \n",
    "    cbar.set_label(clabel)\n",
    "    plt.plot([100, 200], [1100, 1100], 'k')\n",
    "    plt.text(105, 1000, r'100 \\textmu m')\n",
    "    plt.xticks([])\n",
    "    plt.yticks([])\n",
    "    \n",
    "    return Z\n"
   ]
  },
  {
   "cell_type": "code",
   "execution_count": null,
   "metadata": {
    "collapsed": false
   },
   "outputs": [],
   "source": [
    "t_idx = 800\n",
    "\n",
    "title_ca = r'$\\Delta c_\\mathrm{Ca}$'\n",
    "c_init = 1.4\n",
    "vmin = -0.0007\n",
    "vmax = -0.0001\n",
    "levels = np.linspace(vmin,vmax, 7)*1000\n",
    "cticks = np.array([-0.0008, -0.0006, -0.0004, -0.0002, 0])*1e3\n",
    "plot_func_with_neuron(t_idx, 0, levels, c_init, cticks, title=title_ca, cmap='Blues_r', clabel=r'Ion concentration (\\textmu M)')\n",
    "plt.tight_layout()\n",
    "plt.savefig('ca.pdf')\n",
    "\n",
    "title_na = r'$\\Delta c_\\mathrm{Na}$'\n",
    "c_init = 150\n",
    "vmin = -0.03\n",
    "vmax = -0.001\n",
    "levels = np.linspace(vmin,vmax, 7)*1000\n",
    "cticks = np.array([-0.03, -0.02, -0.01, 0])*1000\n",
    "plot_func_with_neuron(t_idx, 1, levels, c_init, cticks, title=title_na, cmap='Blues_r', clabel=r'Ion concentration (\\textmu M)')\n",
    "plt.tight_layout()\n",
    "plt.savefig('na.pdf')\n",
    "\n",
    "title_x = r'$\\Delta c_\\mathrm{X}$'\n",
    "c_init = 155.8\n",
    "vmin = -0.01\n",
    "vmax = 0.01\n",
    "levels = np.linspace(vmin,vmax, 18)*1000\n",
    "cticks = np.array([-0.01, -0.005, 0, 0.005, 0.01])*1e3\n",
    "plot_func_with_neuron(t_idx, 2, levels, c_init, cticks, title=title_x, cmap='RdBu_r', clabel=r'Ion concentration (\\textmu M)')\n",
    "plt.tight_layout()\n",
    "plt.savefig('X.pdf')\n",
    "\n",
    "title_k = r'$\\Delta c_\\mathrm{K}$'\n",
    "c_init = 3\n",
    "vmin = 0.001\n",
    "vmax = 0.03\n",
    "levels = np.linspace(vmin,vmax, 7)*1000\n",
    "cticks = np.array([0, 0.01, 0.02, 0.03])*1e3\n",
    "plot_func_with_neuron(t_idx, 3, levels, c_init, cticks, title=title_k, cmap='Reds', clabel=r'Ion concentration (\\textmu M)')\n",
    "plt.tight_layout()\n",
    "plt.savefig('k.pdf')\n",
    "\n",
    "plt.show()"
   ]
  },
  {
   "cell_type": "code",
   "execution_count": null,
   "metadata": {
    "collapsed": false
   },
   "outputs": [],
   "source": [
    "cbar\n"
   ]
  },
  {
   "cell_type": "code",
   "execution_count": null,
   "metadata": {
    "collapsed": false
   },
   "outputs": [],
   "source": [
    "cbar = plt.colorbar()"
   ]
  },
  {
   "cell_type": "code",
   "execution_count": null,
   "metadata": {
    "collapsed": false
   },
   "outputs": [],
   "source": [
    "Z = np.zeros([100,100])\n"
   ]
  },
  {
   "cell_type": "code",
   "execution_count": null,
   "metadata": {
    "collapsed": false
   },
   "outputs": [],
   "source": [
    "fig = plt.contourf(X,Y,X, cmap='RdBu')"
   ]
  },
  {
   "cell_type": "code",
   "execution_count": null,
   "metadata": {
    "collapsed": false
   },
   "outputs": [],
   "source": [
    "fig."
   ]
  },
  {
   "cell_type": "code",
   "execution_count": null,
   "metadata": {
    "collapsed": false
   },
   "outputs": [],
   "source": [
    "cmap = cbar.cmap"
   ]
  },
  {
   "cell_type": "code",
   "execution_count": null,
   "metadata": {
    "collapsed": false
   },
   "outputs": [],
   "source": [
    "cmap."
   ]
  },
  {
   "cell_type": "code",
   "execution_count": null,
   "metadata": {
    "collapsed": true
   },
   "outputs": [],
   "source": []
  }
 ],
 "metadata": {
  "kernelspec": {
   "display_name": "Python 2",
   "language": "python",
   "name": "python2"
  },
  "language_info": {
   "codemirror_mode": {
    "name": "ipython",
    "version": 2
   },
   "file_extension": ".py",
   "mimetype": "text/x-python",
   "name": "python",
   "nbconvert_exporter": "python",
   "pygments_lexer": "ipython2",
   "version": "2.7.6"
  }
 },
 "nbformat": 4,
 "nbformat_minor": 0
}
